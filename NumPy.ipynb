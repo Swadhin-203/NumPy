{
 "cells": [
  {
   "cell_type": "markdown",
   "id": "64bc7689-4d45-40d4-8ec0-df7aea871444",
   "metadata": {},
   "source": [
    "# Comprehensive Guide to NumPy Functions\n",
    "\n",
    "NumPy is a fundamental package for scientific computing in Python. It provides support for large, multi-dimensional arrays and matrices, along with a collection of high-level mathematical functions to operate on these arrays efficiently.\n",
    "\n",
    "\n"
   ]
  },
  {
   "cell_type": "markdown",
   "id": "436ff17f-dbf1-4ded-adb8-c48393b2e6ac",
   "metadata": {},
   "source": [
    "\n",
    "## Installation\n",
    "\n",
    "If you haven't installed NumPy yet, you can do so using `pip`:\n",
    "\n",
    "```python\n"
   ]
  },
  {
   "cell_type": "code",
   "execution_count": 43,
   "id": "f91203e5-83c9-4e54-9661-5d81ed24c3bd",
   "metadata": {},
   "outputs": [
    {
     "name": "stdout",
     "output_type": "stream",
     "text": [
      "Requirement already satisfied: numpy in c:\\users\\user\\appdata\\local\\programs\\python\\python311\\lib\\site-packages (1.25.2)\n"
     ]
    },
    {
     "name": "stderr",
     "output_type": "stream",
     "text": [
      "\n",
      "[notice] A new release of pip is available: 23.2.1 -> 24.2\n",
      "[notice] To update, run: C:\\Users\\user\\AppData\\Local\\Programs\\Python\\Python311\\python.exe -m pip install --upgrade pip\n"
     ]
    }
   ],
   "source": [
    "!pip install numpy"
   ]
  },
  {
   "cell_type": "markdown",
   "id": "0c5544d6-dc94-4d1f-988d-5c2c0b6a6f6f",
   "metadata": {},
   "source": [
    "# Importing NumPy\n",
    "It's a common convention to import NumPy using the alias np:"
   ]
  },
  {
   "cell_type": "code",
   "execution_count": 2,
   "id": "852e2e30-ff55-4246-ae4d-da9842a9339e",
   "metadata": {},
   "outputs": [],
   "source": [
    "import numpy as np"
   ]
  },
  {
   "cell_type": "markdown",
   "id": "bd323f72-11d1-4667-8303-64f083582835",
   "metadata": {},
   "source": [
    "# Array Creation\n",
    "## From Lists\n",
    "You can create NumPy arrays from Python lists or tuples using the np.array() function.\n",
    "\n"
   ]
  },
  {
   "cell_type": "code",
   "execution_count": 4,
   "id": "0264477d-ecd1-4218-bfb6-8a156e7cb232",
   "metadata": {},
   "outputs": [
    {
     "name": "stdout",
     "output_type": "stream",
     "text": [
      "1D Array: [1 2 3 4 5]\n",
      "\n",
      "2D Array:\n",
      " [[1 2 3]\n",
      " [4 5 6]]\n"
     ]
    }
   ],
   "source": [
    "import numpy as np\n",
    "\n",
    "# Creating a 1D array from a list\n",
    "arr1 = np.array([1, 2, 3, 4, 5])\n",
    "print(\"1D Array:\", arr1)\n",
    "\n",
    "# Creating a 2D array from a list of lists\n",
    "arr2 = np.array([[1, 2, 3], [4, 5, 6]])\n",
    "print(\"\\n2D Array:\\n\", arr2)\n"
   ]
  },
  {
   "cell_type": "markdown",
   "id": "cb537001-3e7a-44d7-94a0-57cb92cfe286",
   "metadata": {},
   "source": [
    "# Zeros and Ones\n",
    "Creating arrays filled with zeros or ones is straightforward with np.zeros() and np.ones()."
   ]
  },
  {
   "cell_type": "code",
   "execution_count": 6,
   "id": "ff9f5ee6-04b3-4a9e-aa92-aedc0da8cbfc",
   "metadata": {},
   "outputs": [
    {
     "name": "stdout",
     "output_type": "stream",
     "text": [
      "Zeros Array:\n",
      " [[0. 0. 0. 0.]\n",
      " [0. 0. 0. 0.]\n",
      " [0. 0. 0. 0.]]\n",
      "\n",
      "Ones Array:\n",
      " [[1. 1. 1.]\n",
      " [1. 1. 1.]]\n"
     ]
    }
   ],
   "source": [
    "# Array of zeros\n",
    "zeros = np.zeros((3, 4))\n",
    "print(\"Zeros Array:\\n\", zeros)\n",
    "\n",
    "# Array of ones\n",
    "ones = np.ones((2, 3))\n",
    "print(\"\\nOnes Array:\\n\", ones)\n"
   ]
  },
  {
   "cell_type": "markdown",
   "id": "b64d3463-ee4c-423d-8704-28ec25302fe4",
   "metadata": {},
   "source": [
    "# Arange and Linspace\n",
    "Generate sequences of numbers using np.arange() and np.linspace()."
   ]
  },
  {
   "cell_type": "code",
   "execution_count": 8,
   "id": "86d23793-6d4c-45ae-a056-67a3ab7cb79d",
   "metadata": {},
   "outputs": [
    {
     "name": "stdout",
     "output_type": "stream",
     "text": [
      "Even Numbers: [0 2 4 6 8]\n",
      "\n",
      "Linspace Array: [0.   0.25 0.5  0.75 1.  ]\n"
     ]
    }
   ],
   "source": [
    "# Using arange to create an array of even numbers\n",
    "evens = np.arange(0, 10, 2)\n",
    "print(\"Even Numbers:\", evens)\n",
    "\n",
    "# Using linspace to create an array of 5 numbers between 0 and 1\n",
    "linear = np.linspace(0, 1, 5)\n",
    "print(\"\\nLinspace Array:\", linear)\n"
   ]
  },
  {
   "cell_type": "markdown",
   "id": "f8d8255c-7240-4ced-9fa3-17592e2d9254",
   "metadata": {},
   "source": [
    "# Random Arrays\n",
    "Generate arrays with random numbers using np.random."
   ]
  },
  {
   "cell_type": "code",
   "execution_count": 10,
   "id": "ffe678de-49ca-464b-a701-73e1fc8596b9",
   "metadata": {},
   "outputs": [
    {
     "name": "stdout",
     "output_type": "stream",
     "text": [
      "Random Integers:\n",
      " [[7 9 9]\n",
      " [4 7 6]]\n",
      "\n",
      "Random Floats:\n",
      " [[0.99933405 0.12260725]\n",
      " [0.53632669 0.17735993]\n",
      " [0.18156206 0.97804041]]\n"
     ]
    }
   ],
   "source": [
    "# Random integers between 0 and 10\n",
    "rand_int = np.random.randint(0, 10, size=(2, 3))\n",
    "print(\"Random Integers:\\n\", rand_int)\n",
    "\n",
    "# Random floats between 0 and 1\n",
    "rand_float = np.random.random((3, 2))\n",
    "print(\"\\nRandom Floats:\\n\", rand_float)\n"
   ]
  },
  {
   "cell_type": "markdown",
   "id": "f11548fb-e72f-447f-9c95-08f21e7721ce",
   "metadata": {},
   "source": [
    "# Array Attributes\n",
    "NumPy arrays have several useful attributes."
   ]
  },
  {
   "cell_type": "code",
   "execution_count": 12,
   "id": "60435f6f-d964-440f-a35d-a519b04e14b6",
   "metadata": {},
   "outputs": [
    {
     "name": "stdout",
     "output_type": "stream",
     "text": [
      "Array:\n",
      " [[1 2 3]\n",
      " [4 5 6]]\n",
      "Shape: (2, 3)\n",
      "Number of Dimensions: 2\n",
      "Data Type: int32\n",
      "Size: 6\n"
     ]
    }
   ],
   "source": [
    "arr = np.array([[1, 2, 3], [4, 5, 6]])\n",
    "\n",
    "print(\"Array:\\n\", arr)\n",
    "print(\"Shape:\", arr.shape)\n",
    "print(\"Number of Dimensions:\", arr.ndim)\n",
    "print(\"Data Type:\", arr.dtype)\n",
    "print(\"Size:\", arr.size)\n"
   ]
  },
  {
   "cell_type": "markdown",
   "id": "22a31de6-2806-4742-866b-b80820aa63ed",
   "metadata": {},
   "source": [
    "# Indexing and Slicing\n",
    "## Basic Indexing\n",
    "Accessing elements using indices."
   ]
  },
  {
   "cell_type": "code",
   "execution_count": 14,
   "id": "c00467b4-2913-4c99-9a86-c62b3a3c05f5",
   "metadata": {},
   "outputs": [
    {
     "name": "stdout",
     "output_type": "stream",
     "text": [
      "First Element: 10\n",
      "Last Element: 50\n"
     ]
    }
   ],
   "source": [
    "arr = np.array([10, 20, 30, 40, 50])\n",
    "\n",
    "# Access the first element\n",
    "print(\"First Element:\", arr[0])\n",
    "\n",
    "# Access the last element\n",
    "print(\"Last Element:\", arr[-1])\n"
   ]
  },
  {
   "cell_type": "markdown",
   "id": "a6a2d52d-967e-4dc2-b289-70019490b72f",
   "metadata": {},
   "source": [
    "# Slicing\n",
    "Extracting subarrays using slicing."
   ]
  },
  {
   "cell_type": "code",
   "execution_count": 16,
   "id": "579d7a0d-a89f-44af-81a7-233ec0bad4d8",
   "metadata": {},
   "outputs": [
    {
     "name": "stdout",
     "output_type": "stream",
     "text": [
      "Sliced Array:\n",
      " [[1 2 3]\n",
      " [5 6 7]]\n"
     ]
    }
   ],
   "source": [
    "arr = np.array([[1, 2, 3, 4],\n",
    "                [5, 6, 7, 8],\n",
    "                [9, 10, 11, 12]])\n",
    "\n",
    "# Slice the first two rows and first three columns\n",
    "sub_arr = arr[0:2, 0:3]\n",
    "print(\"Sliced Array:\\n\", sub_arr)\n"
   ]
  },
  {
   "cell_type": "markdown",
   "id": "b8e9f5f7-1698-477c-87ce-4dcd4d386ed7",
   "metadata": {},
   "source": [
    "# Boolean Indexing\n",
    "Selecting elements based on conditions."
   ]
  },
  {
   "cell_type": "code",
   "execution_count": 18,
   "id": "5619cf27-249f-4476-834a-a7c85c758a91",
   "metadata": {},
   "outputs": [
    {
     "name": "stdout",
     "output_type": "stream",
     "text": [
      "Elements > 3: [4 5 6]\n"
     ]
    }
   ],
   "source": [
    "arr = np.array([1, 2, 3, 4, 5, 6])\n",
    "\n",
    "# Select elements greater than 3\n",
    "filtered = arr[arr > 3]\n",
    "print(\"Elements > 3:\", filtered)\n"
   ]
  },
  {
   "cell_type": "markdown",
   "id": "052766fb-37e7-4457-b046-21bda3e2a70d",
   "metadata": {},
   "source": [
    "# Fancy Indexing\n",
    "Using integer arrays to specify multiple indices."
   ]
  },
  {
   "cell_type": "code",
   "execution_count": 20,
   "id": "854e6dad-41c5-4291-8879-c08600f25a82",
   "metadata": {},
   "outputs": [
    {
     "name": "stdout",
     "output_type": "stream",
     "text": [
      "Fancy Indexed Elements: [1 4 5]\n"
     ]
    }
   ],
   "source": [
    "arr = np.array([[1, 2], [3, 4], [5, 6]])\n",
    "\n",
    "# Select elements at specific positions\n",
    "selected = arr[[0, 1, 2], [0, 1, 0]]\n",
    "print(\"Fancy Indexed Elements:\", selected)\n"
   ]
  },
  {
   "cell_type": "markdown",
   "id": "b070a1bd-77ab-4e10-b447-d25ae408a48b",
   "metadata": {},
   "source": [
    "# Array Operations\n",
    "## Arithmetic Operations\n",
    "Perform element-wise operations."
   ]
  },
  {
   "cell_type": "code",
   "execution_count": 23,
   "id": "95e59187-1c9b-48df-b1f9-910e5735b395",
   "metadata": {},
   "outputs": [
    {
     "name": "stdout",
     "output_type": "stream",
     "text": [
      "Addition: [5 7 9]\n",
      "Subtraction: [-3 -3 -3]\n",
      "Multiplication: [ 4 10 18]\n",
      "Division: [0.25 0.4  0.5 ]\n"
     ]
    }
   ],
   "source": [
    "a = np.array([1, 2, 3])\n",
    "b = np.array([4, 5, 6])\n",
    "\n",
    "# Addition\n",
    "print(\"Addition:\", a + b)\n",
    "\n",
    "# Subtraction\n",
    "print(\"Subtraction:\", a - b)\n",
    "\n",
    "# Multiplication\n",
    "print(\"Multiplication:\", a * b)\n",
    "\n",
    "# Division\n",
    "print(\"Division:\", a / b)\n"
   ]
  },
  {
   "cell_type": "markdown",
   "id": "3485def7-ba3e-4667-bc04-7bcd516de5ca",
   "metadata": {},
   "source": [
    "# Universal Functions (ufuncs)\n",
    "Apply mathematical functions element-wise."
   ]
  },
  {
   "cell_type": "code",
   "execution_count": 25,
   "id": "17e2d7f3-8972-49bf-af43-f09c72e5cf33",
   "metadata": {},
   "outputs": [
    {
     "name": "stdout",
     "output_type": "stream",
     "text": [
      "Square Roots: [1. 2. 3. 4.]\n",
      "\n",
      "Exponential: [2.71828183e+00 5.45981500e+01 8.10308393e+03 8.88611052e+06]\n",
      "\n",
      "Sine Values: [0.0000000e+00 1.0000000e+00 1.2246468e-16]\n"
     ]
    }
   ],
   "source": [
    "arr = np.array([1, 4, 9, 16])\n",
    "\n",
    "# Square root \n",
    "sqrt = np.sqrt(arr)\n",
    "print(\"Square Roots:\", sqrt)\n",
    "\n",
    "# Exponential\n",
    "exp = np.exp(arr)\n",
    "print(\"\\nExponential:\", exp)\n",
    "\n",
    "# Sine\n",
    "angles = np.array([0, np.pi/2, np.pi])\n",
    "sine = np.sin(angles)\n",
    "print(\"\\nSine Values:\", sine)\n"
   ]
  },
  {
   "cell_type": "markdown",
   "id": "9b4b6162-6a7c-4a53-9654-1cb886fabee0",
   "metadata": {},
   "source": [
    "# Linear Algebra\n",
    "Perform linear algebra operations using numpy.linalg."
   ]
  },
  {
   "cell_type": "code",
   "execution_count": 28,
   "id": "2b5572bb-46ee-47bc-a195-16ea29e7fdff",
   "metadata": {},
   "outputs": [
    {
     "name": "stdout",
     "output_type": "stream",
     "text": [
      "Matrix Product:\n",
      " [[19 22]\n",
      " [43 50]]\n",
      "\n",
      "Transpose of A:\n",
      " [[1 3]\n",
      " [2 4]]\n",
      "\n",
      "Inverse of A:\n",
      " [[-2.   1. ]\n",
      " [ 1.5 -0.5]]\n",
      "\n",
      "Determinant of A: -2.0000000000000004\n"
     ]
    }
   ],
   "source": [
    "import numpy as np\n",
    "\n",
    "# Define two matrices\n",
    "A = np.array([[1, 2], [3, 4]])\n",
    "B = np.array([[5, 6], [7, 8]])\n",
    "\n",
    "# Matrix multiplication\n",
    "product = np.dot(A, B)\n",
    "print(\"Matrix Product:\\n\", product)\n",
    "\n",
    "# Transpose\n",
    "transpose = A.T\n",
    "print(\"\\nTranspose of A:\\n\", transpose)\n",
    "\n",
    "# Inverse\n",
    "inverse_A = np.linalg.inv(A)\n",
    "print(\"\\nInverse of A:\\n\", inverse_A)\n",
    "\n",
    "# Determinant\n",
    "det_A = np.linalg.det(A)\n",
    "print(\"\\nDeterminant of A:\", det_A)\n"
   ]
  },
  {
   "cell_type": "markdown",
   "id": "33575b7a-ede2-4ca0-b546-43fafe9f1b4f",
   "metadata": {},
   "source": [
    "# Statistics\n",
    "Compute statistical measures."
   ]
  },
  {
   "cell_type": "code",
   "execution_count": 30,
   "id": "a22910db-77a2-4649-9409-b07205cc8069",
   "metadata": {},
   "outputs": [
    {
     "name": "stdout",
     "output_type": "stream",
     "text": [
      "Mean: 3.5\n",
      "Median: 3.5\n",
      "Standard Deviation: 1.707825127659933\n",
      "Sum: 21\n",
      "Min: 1 Max: 6\n"
     ]
    }
   ],
   "source": [
    "arr = np.array([1, 2, 3, 4, 5, 6])\n",
    "\n",
    "# Mean\n",
    "mean = np.mean(arr)\n",
    "print(\"Mean:\", mean)\n",
    "\n",
    "# Median\n",
    "median = np.median(arr)\n",
    "print(\"Median:\", median)\n",
    "\n",
    "# Standard Deviation\n",
    "std = np.std(arr)\n",
    "print(\"Standard Deviation:\", std)\n",
    "\n",
    "# Sum\n",
    "total = np.sum(arr)\n",
    "print(\"Sum:\", total)\n",
    "\n",
    "# Minimum and Maximum\n",
    "minimum = np.min(arr)\n",
    "maximum = np.max(arr)\n",
    "print(\"Min:\", minimum, \"Max:\", maximum)\n"
   ]
  },
  {
   "cell_type": "markdown",
   "id": "784bf0b9-fada-419f-90d2-7dfc4b5b50d7",
   "metadata": {},
   "source": [
    "# Saving and Loading Arrays\n",
    "Save arrays to disk and load them back."
   ]
  },
  {
   "cell_type": "code",
   "execution_count": 32,
   "id": "94262f76-a9f1-422e-b1d4-118668412129",
   "metadata": {},
   "outputs": [
    {
     "name": "stdout",
     "output_type": "stream",
     "text": [
      "Loaded Array:\n",
      " [[1 2 3]\n",
      " [4 5 6]]\n",
      "\n",
      "Loaded Arrays from .npz:\n",
      "a:\n",
      " [[1 2 3]\n",
      " [4 5 6]]\n",
      "b:\n",
      " [[1 2 3]\n",
      " [4 5 6]]\n"
     ]
    }
   ],
   "source": [
    "arr = np.array([[1, 2, 3], [4, 5, 6]])\n",
    "\n",
    "# Save to a binary file in NumPy `.npy` format\n",
    "np.save('array.npy', arr)\n",
    "\n",
    "# Load the array back\n",
    "loaded_arr = np.load('array.npy')\n",
    "print(\"Loaded Array:\\n\", loaded_arr)\n",
    "\n",
    "# Save multiple arrays in a single file using `.npz` format\n",
    "np.savez('arrays.npz', a=arr, b=loaded_arr)\n",
    "\n",
    "# Load the `.npz` file\n",
    "data = np.load('arrays.npz')\n",
    "print(\"\\nLoaded Arrays from .npz:\")\n",
    "print(\"a:\\n\", data['a'])\n",
    "print(\"b:\\n\", data['b'])\n"
   ]
  },
  {
   "cell_type": "markdown",
   "id": "7bfde9c0-92ec-48a2-ac1d-9c58c209bc1b",
   "metadata": {},
   "source": [
    "# Advanced Topics\n"
   ]
  },
  {
   "cell_type": "markdown",
   "id": "69d73612-b098-46a2-8d64-189ae0ff44af",
   "metadata": {},
   "source": [
    "## Broadcasting\n",
    "Perform operations on arrays of different shapes."
   ]
  },
  {
   "cell_type": "code",
   "execution_count": 37,
   "id": "d5cd33c4-ef84-49b5-9023-437ecead7c0b",
   "metadata": {},
   "outputs": [
    {
     "name": "stdout",
     "output_type": "stream",
     "text": [
      "Broadcasted Addition:\n",
      " [[11 22 33]\n",
      " [14 25 36]]\n"
     ]
    }
   ],
   "source": [
    "a = np.array([[1, 2, 3],\n",
    "              [4, 5, 6]])\n",
    "\n",
    "b = np.array([10, 20, 30])\n",
    "\n",
    "# Add a 1D array to a 2D array\n",
    "result = a + b\n",
    "print(\"Broadcasted Addition:\\n\", result)\n"
   ]
  },
  {
   "cell_type": "markdown",
   "id": "1f9e0059-1412-4688-abed-7ed16ac137a2",
   "metadata": {},
   "source": [
    "# Reshaping Arrays\n",
    "Change the shape of an array without changing its data."
   ]
  },
  {
   "cell_type": "code",
   "execution_count": 38,
   "id": "ca7dcdb3-1a8f-4ddd-b099-eb091540cad8",
   "metadata": {},
   "outputs": [
    {
     "name": "stdout",
     "output_type": "stream",
     "text": [
      "Original Array: [ 0  1  2  3  4  5  6  7  8  9 10 11]\n",
      "\n",
      "Reshaped Array (3x4):\n",
      " [[ 0  1  2  3]\n",
      " [ 4  5  6  7]\n",
      " [ 8  9 10 11]]\n",
      "\n",
      "Flattened Array: [ 0  1  2  3  4  5  6  7  8  9 10 11]\n"
     ]
    }
   ],
   "source": [
    "arr = np.arange(12)\n",
    "print(\"Original Array:\", arr)\n",
    "\n",
    "# Reshape to 3x4\n",
    "reshaped = arr.reshape((3, 4))\n",
    "print(\"\\nReshaped Array (3x4):\\n\", reshaped)\n",
    "\n",
    "# Flatten the array back to 1D\n",
    "flat = reshaped.flatten()\n",
    "print(\"\\nFlattened Array:\", flat)\n"
   ]
  },
  {
   "cell_type": "markdown",
   "id": "aec90936-93c6-4ce9-af8b-c3e2d8782a48",
   "metadata": {},
   "source": [
    "# Stacking and Splitting\n",
    "Combine or divide arrays."
   ]
  },
  {
   "cell_type": "code",
   "execution_count": 40,
   "id": "c6c2cf5e-3fee-4804-8d0e-5a813f240a74",
   "metadata": {},
   "outputs": [
    {
     "name": "stdout",
     "output_type": "stream",
     "text": [
      "Vertical Stack:\n",
      " [[1 2]\n",
      " [3 4]\n",
      " [5 6]]\n",
      "\n",
      "Horizontal Stack:\n",
      " [[1 2 5]\n",
      " [3 4 6]]\n",
      "\n",
      "Split Arrays:\n",
      "[[1 2]\n",
      " [3 4]]\n",
      "[[5 6]]\n"
     ]
    }
   ],
   "source": [
    "a = np.array([[1, 2], [3, 4]])\n",
    "b = np.array([[5, 6]])\n",
    "\n",
    "# Vertical Stacking\n",
    "v_stack = np.vstack((a, b))\n",
    "print(\"Vertical Stack:\\n\", v_stack)\n",
    "\n",
    "# Horizontal Stacking\n",
    "h_stack = np.hstack((a, b.T))\n",
    "print(\"\\nHorizontal Stack:\\n\", h_stack)\n",
    "\n",
    "# Splitting\n",
    "split = np.split(v_stack, [2], axis=0)\n",
    "print(\"\\nSplit Arrays:\")\n",
    "for part in split:\n",
    "    print(part)\n"
   ]
  },
  {
   "cell_type": "markdown",
   "id": "045a3ca0-f1c1-4abf-9fda-a0f85b5debb1",
   "metadata": {},
   "source": [
    "# Copy vs. View\n",
    "Understanding the difference between copying and viewing arrays."
   ]
  },
  {
   "cell_type": "code",
   "execution_count": 42,
   "id": "fd485194-16e9-4311-9c80-bb105b99effe",
   "metadata": {},
   "outputs": [
    {
     "name": "stdout",
     "output_type": "stream",
     "text": [
      "Original Array after View Modification: [100   2   3   4]\n",
      "Original Array after Copy Modification: [100   2   3   4]\n",
      "Copied Array: [100 200   3   4]\n"
     ]
    }
   ],
   "source": [
    "arr = np.array([1, 2, 3, 4])\n",
    "\n",
    "# View\n",
    "view = arr.view()\n",
    "view[0] = 100\n",
    "print(\"Original Array after View Modification:\", arr)\n",
    "\n",
    "# Copy\n",
    "copy = arr.copy()\n",
    "copy[1] = 200\n",
    "print(\"Original Array after Copy Modification:\", arr)\n",
    "print(\"Copied Array:\", copy)\n"
   ]
  },
  {
   "cell_type": "markdown",
   "id": "8ec4e4eb-72e8-4e52-a5be-c4e77ef816fe",
   "metadata": {},
   "source": [
    "<center>\n",
    "    <p style=\"\n",
    "        font-family: 'Verdana', sans-serif;\n",
    "        font-size: 20px;\n",
    "        color: #333333;\n",
    "        font-weight: bold;\n",
    "        line-height: 1.6;\n",
    "        text-align: center;\n",
    "        margin: 30px 0;\n",
    "    \">\n",
    "        <span style=\"color: #1E90FF; font-size: 22px;\">🚀 Connect with me on LinkedIn!</span><br>\n",
    "        <span style=\"font-size: 18px; color: #4CAF50;\">\n",
    "            For more insights and updates on Python programming and advanced concepts, feel free to\n",
    "        </span><br>\n",
    "        <span style=\"font-size: 18px;\">\n",
    "            <strong><a href=\"https://www.linkedin.com/in/swadhin-gyanajyoti-nayak/\" style=\"color: #FF4500; text-decoration: none; font-weight: bold;\">connect with Swadhin Gyanajyoti Nayak</a></strong>.\n",
    "        </span>\n",
    "    </p>\n",
    "</center>\n"
   ]
  }
 ],
 "metadata": {
  "kernelspec": {
   "display_name": "Python 3 (ipykernel)",
   "language": "python",
   "name": "python3"
  },
  "language_info": {
   "codemirror_mode": {
    "name": "ipython",
    "version": 3
   },
   "file_extension": ".py",
   "mimetype": "text/x-python",
   "name": "python",
   "nbconvert_exporter": "python",
   "pygments_lexer": "ipython3",
   "version": "3.11.4"
  },
  "widgets": {
   "application/vnd.jupyter.widget-state+json": {
    "state": {},
    "version_major": 2,
    "version_minor": 0
   }
  }
 },
 "nbformat": 4,
 "nbformat_minor": 5
}
